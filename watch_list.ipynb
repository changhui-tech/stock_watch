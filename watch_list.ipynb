{
 "cells": [
  {
   "cell_type": "markdown",
   "metadata": {},
   "source": [
    "# Python for Picking up Stocks by Screening Correction"
   ]
  },
  {
   "cell_type": "code",
   "execution_count": null,
   "metadata": {},
   "outputs": [],
   "source": [
    "import os.path\n",
    "from os import path\n",
    "\n",
    "import webbrowser\n",
    "\n",
    "import pandas as pd\n",
    "import numpy as np\n",
    "\n",
    "import datetime\n",
    "from pytz import timezone\n",
    "from datetime import timedelta\n",
    "\n",
    "import matplotlib.pyplot as plt\n",
    "import seaborn as sns\n",
    "sns.set()\n",
    "\n",
    "from pandas_datareader import data as pdr\n",
    "import yfinance"
   ]
  },
  {
   "cell_type": "code",
   "execution_count": null,
   "metadata": {},
   "outputs": [],
   "source": [
    "symbols = pd.read_excel('watch_list_new.xlsx')['symbol']\n",
    "today = pd.Timestamp(datetime.date.today())\n",
    "weekday = today.weekday()\n",
    "current_time = datetime.datetime.now(timezone('EST')).time().strftime('%H:%M:%S')\n",
    "date_6m_ago = today - pd.tseries.offsets.DateOffset(months=6, days=-1)"
   ]
  },
  {
   "cell_type": "code",
   "execution_count": null,
   "metadata": {},
   "outputs": [],
   "source": [
    "stocks = {}\n",
    "\n",
    "if path.exists(\"watch_list.h5\") == False:    \n",
    "    for symbol in symbols:\n",
    "        stocks[symbol] = pdr.get_data_yahoo(symbol, start=date_6m_ago, end=today)\n",
    "        stocks[symbol].to_hdf('watch_list.h5', key = symbol, mode = 'a')\n",
    "\n",
    "else:\n",
    "    for symbol in symbols:    \n",
    "        stocks[symbol] = pd.read_hdf('watch_list.h5', key = symbol)\n",
    "\n",
    "    latest_data = {}\n",
    "\n",
    "    if weekday<5 and current_time>'06:30:00': # and current_time<'24:00:00':\n",
    "\n",
    "        for symbol in symbols:\n",
    "\n",
    "            last_date = stocks[symbol].index[-1]\n",
    "\n",
    "            if last_date == today:\n",
    "                new_start_date = today\n",
    "                stocks[symbol] = stocks[symbol].drop([last_date])\n",
    "\n",
    "            elif last_date.weekday()==4:\n",
    "                new_start_date = last_date + timedelta(days=3)\n",
    "\n",
    "            else:\n",
    "                new_start_date = last_date + timedelta(days=1)\n",
    "\n",
    "            latest_data[symbol] = pdr.get_data_yahoo(symbol, start=new_start_date, end=today)        \n",
    "            stocks[symbol] = stocks[symbol].append(latest_data[symbol])\n",
    "\n",
    "            stocks[symbol].to_hdf('watch_list.h5', key = symbol, mode = 'a')"
   ]
  },
  {
   "cell_type": "code",
   "execution_count": null,
   "metadata": {},
   "outputs": [],
   "source": [
    "current_time"
   ]
  },
  {
   "cell_type": "code",
   "execution_count": null,
   "metadata": {},
   "outputs": [],
   "source": [
    "stocks['AAPL']"
   ]
  },
  {
   "cell_type": "code",
   "execution_count": null,
   "metadata": {},
   "outputs": [],
   "source": [
    "stocks_to_buy = pd.DataFrame(columns=['symbol',\t'Date_High',\t'Price_High',\t'Date_Low',\t'Price_Low',\t'Max_Correction',\t'Price_Today',\t'Today_Correction',\t'Rebounced'])\n",
    "\n",
    "for symbol in symbols:\n",
    "    \n",
    "    highest_price = stocks[symbol]['High'].max()\n",
    "    highest_date = stocks[symbol]['High'].idxmax(axis=0, skipna=True)\n",
    "\n",
    "    lowest_price = stocks[symbol].loc[highest_date:]['Low'].min()\n",
    "    lowest_date = stocks[symbol].loc[highest_date:,'Low'].idxmin(axis=0, skipna=True)\n",
    "\n",
    "    max_correction = (lowest_price-highest_price)/highest_price\n",
    "\n",
    "    if max_correction < -0.25:\n",
    "        today_price = stocks[symbol].iloc[-1,-1]\n",
    "        today_correction = (today_price-highest_price)/highest_price\n",
    "        diff_today_lowest = (today_price-lowest_price)/lowest_price\n",
    "\n",
    "        if diff_today_lowest < 0.1:\n",
    "            stocks_to_buy = stocks_to_buy.append({'symbol':symbol,'Date_High':highest_date,'Price_High':highest_price,'Date_Low':lowest_date,'Price_Low':lowest_price,'Max_Correction':max_correction,'Price_Today':today_price, 'Today_Correction':today_correction,'Rebounced':diff_today_lowest},ignore_index=True)"
   ]
  },
  {
   "cell_type": "code",
   "execution_count": null,
   "metadata": {},
   "outputs": [],
   "source": [
    "stocks_to_buy.round(4)"
   ]
  },
  {
   "cell_type": "code",
   "execution_count": null,
   "metadata": {},
   "outputs": [],
   "source": [
    "date_index = datetime.date.today().strftime('%Y%m%d')\n",
    "stocks_to_buy.round(4).to_excel('stocks_to_buy_' + date_index + '.xlsx', index=None)"
   ]
  },
  {
   "cell_type": "code",
   "execution_count": null,
   "metadata": {},
   "outputs": [],
   "source": [
    "for sbl in stocks_to_buy['symbol']:\n",
    "\n",
    "    url = \"https://finance.yahoo.com/chart/\" + sbl\n",
    "\n",
    "    webbrowser.open_new_tab(url)"
   ]
  },
  {
   "cell_type": "code",
   "execution_count": null,
   "metadata": {},
   "outputs": [],
   "source": []
  }
 ],
 "metadata": {
  "interpreter": {
   "hash": "aee8b7b246df8f9039afb4144a1f6fd8d2ca17a180786b69acc140d282b71a49"
  },
  "kernelspec": {
   "display_name": "Python 3.9.7 64-bit",
   "name": "python3"
  },
  "language_info": {
   "codemirror_mode": {
    "name": "ipython",
    "version": 3
   },
   "file_extension": ".py",
   "mimetype": "text/x-python",
   "name": "python",
   "nbconvert_exporter": "python",
   "pygments_lexer": "ipython3",
   "version": "3.10.6"
  },
  "orig_nbformat": 2
 },
 "nbformat": 4,
 "nbformat_minor": 2
}
